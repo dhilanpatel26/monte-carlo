{
 "cells": [
  {
   "cell_type": "markdown",
   "metadata": {},
   "source": [
    "---\n",
    "title: Random Number Generators\n",
    "author: Your name\n",
    "date: Today's date\n",
    "---"
   ]
  },
  {
   "cell_type": "code",
   "execution_count": 1,
   "metadata": {},
   "outputs": [],
   "source": [
    "import numpy as np\n",
    "import matplotlib.pyplot as plt\n",
    "from scipy.stats import chi2\n",
    "from scipy.stats import norm"
   ]
  },
  {
   "cell_type": "markdown",
   "metadata": {},
   "source": [
    "# Testing Randomness of Linear Congruential Generators\n",
    "\n",
    "In this notebook, we will test the quality of a Linear Congruential Generator (LCG) using a few of the tests from the NIST Statistical Test Suite. The tests we will use are:\n",
    "\n",
    "1. Chi-Square Test\n",
    "2. MonoBit Frequency Test\n",
    "3. Runs Test\n",
    "\n",
    "We'll start by defining the LCG. Throughout this notebook we'll fix $m = 2^{12}$ and $c = 1$."
   ]
  },
  {
   "cell_type": "code",
   "execution_count": 2,
   "metadata": {},
   "outputs": [],
   "source": [
    "# import scipy.stats as stats\n",
    "\n",
    "# # Find the 95th percentile of the chi-square distribution with 1 degree of freedom\n",
    "# chi_squared_critical_value = stats.chi2.ppf(0.95, df=1)\n",
    "\n",
    "# print(chi_squared_critical_value)\n"
   ]
  },
  {
   "cell_type": "code",
   "execution_count": 3,
   "metadata": {},
   "outputs": [],
   "source": [
    "# class for PRNG\n",
    "class PRNG:\n",
    "    def __init__(self, seed, m):\n",
    "        self.value = seed\n",
    "        self.m = m\n",
    "\n",
    "    def __next__(self):\n",
    "        # to be implemented in subclass\n",
    "        raise NotImplementedError\n",
    "    \n",
    "    # generate n random integers\n",
    "    def randint(self, n):\n",
    "        return [next(self) for _ in range(n)]\n",
    "    \n",
    "    # set seed\n",
    "    def seed(self, seed):\n",
    "        self.value = seed\n",
    "\n",
    "    def __iter__(self):\n",
    "        return self\n",
    "    \n",
    "\n",
    "# class for LCG extending PRNG\n",
    "class LCG(PRNG):\n",
    "    def __init__(self, seed, a, c, m):\n",
    "        super().__init__(seed, m)\n",
    "        self.a = a\n",
    "        self.c = c\n",
    "\n",
    "    def __next__(self):\n",
    "        self.value = (self.a * self.value + self.c) % self.m\n",
    "        return self.value\n",
    "    \n",
    "# uncomment the code below to understand the various functions of the LCG class\n",
    "# delete these commented lines from your final submission\n",
    "# these are just for your understanding\n",
    "\n",
    "# lcg = LCG(seed = 2, a = 1, c = 1, m = 2**12)\n",
    "# print(lcg.randint(10))\n",
    "\n",
    "# print(lcg.value)\n",
    "# next(lcg)\n",
    "# print(lcg.value)\n",
    "\n",
    "# print(lcg.randint(10))\n",
    "# print(lcg.value)\n",
    "\n",
    "# lcg.seed(2)\n",
    "# print(lcg.randint(10))\n",
    "\n",
    "# print(lcg.value)\n",
    "# next(lcg)\n",
    "# print(lcg.value)"
   ]
  },
  {
   "cell_type": "markdown",
   "metadata": {},
   "source": [
    "## Hull-Dobell Theorem\n",
    "\n",
    "We'll start by verifying Hull-Dobell Theorem when $m = 2^{12}$. We'll fix $c = 1$.\n",
    "\n",
    "According to the Hull-Dobell theorem for what values of $a$ will the LCG have a full period of $m$?\n",
    "\n",
    "Pick one odd number $a > 1$ that satisfies the Hull-Dobell and verify that it's period is indeed $m$. Pick one odd number $a > 1$ that does not satisfy the Hull-Dobell and verify that it's period is less than $m$.\n"
   ]
  },
  {
   "cell_type": "code",
   "execution_count": 4,
   "metadata": {},
   "outputs": [
    {
     "name": "stdout",
     "output_type": "stream",
     "text": [
      "4096\n",
      "1024\n"
     ]
    }
   ],
   "source": [
    "# Answer to Q.1:\n",
    "\n",
    "# In theory, a cycle does not have to begin at the very start. For example, 1, 2, 3, 4, 3, 4, 3, 4, 3, 4, ... has a cycle consisting of 3, 4.\n",
    "# But for this problem you can assume that the cycle starts at the very beginning. If this is not the case for your chosen value of a, try another value.\n",
    "\n",
    "m = 2**12\n",
    "\n",
    "def find_period(lcg):\n",
    "    seen = set()\n",
    "    period = 0\n",
    "    while period < m:\n",
    "        next_val = next(lcg)\n",
    "        if next_val in seen:\n",
    "            return period\n",
    "        else:\n",
    "            seen.add(next_val)\n",
    "            period += 1\n",
    "    return m\n",
    "\n",
    "# lcg with full period\n",
    "lcg1 = LCG(seed = 1, a = 5, c = 1, m = m)\n",
    "print(find_period(lcg1))\n",
    "\n",
    "# lcg without full period\n",
    "lcg2 = LCG(seed = 1, a = 7, c = 1, m = m)\n",
    "print(find_period(lcg2))"
   ]
  },
  {
   "cell_type": "markdown",
   "metadata": {},
   "source": [
    "## Test cases\n",
    "\n",
    "Define three test sequences of length 1024 here:\n",
    "\n",
    "1. X = a sequence of zeroes.  \n",
    "2. Y = a sequence of random integers generated using an LCG with $a=1, c=1, m=2^{12}$\n",
    "3. Z = a sequence of random integers generated using an LCG with $a=5, c=1, m=2^{12}$\n"
   ]
  },
  {
   "cell_type": "code",
   "execution_count": 5,
   "metadata": {},
   "outputs": [],
   "source": [
    "# test cases here\n",
    "import numpy as np\n",
    "\n",
    "X = [0] * 1024 # all zeros\n",
    "\n",
    "lcg1 = LCG(seed = 1, a = 1, c = 1, m = 2**12) # alternates odd-even\n",
    "Y = np.array(lcg1.randint(1024))\n",
    "\n",
    "lcg1 = LCG(seed = 1, a = 5, c = 1, m = 2**12) # alternates odd-even\n",
    "Z = np.array(lcg2.randint(1024))\n"
   ]
  },
  {
   "cell_type": "markdown",
   "metadata": {},
   "source": [
    "## Chi-Square Test\n",
    "\n",
    "Define the function `chi2_test` that takes as input \n",
    "\n",
    "- a list of random integers\n",
    "- a max value `max` (not inclusive)\n",
    "- number of bins `bins`\n",
    "- significance level $\\alpha$\n",
    "\n",
    "and returns the p-value of the Chi-Square test and a boolean value indicating whether the null hypothesis is not rejected (`True`) or rejected (`False`). The null hypothesis being that the random numbers are uniformly distributed in the range `[0, max)` among `bins` number of bins. \n",
    "\n",
    "For calculating the p-value, use the function `chi2.cdf` from the `scipy.stats` module. You are not allowed to use any other library functions. Use `bins = 2**6`, and test the following three sequences:\n",
    "\n",
    "1. `np.zeros(1000)`\n",
    "2. Generate 1024 random integers using a LCG with `a=1`.\n",
    "3. Generate 1024 random integers using a LCG with `a=5`.\n",
    "\n"
   ]
  },
  {
   "cell_type": "code",
   "execution_count": 6,
   "metadata": {},
   "outputs": [
    {
     "name": "stdout",
     "output_type": "stream",
     "text": [
      "False False True\n"
     ]
    }
   ],
   "source": [
    "# chi2 test for uniform randomness\n",
    "from scipy.stats import chi2\n",
    "\n",
    "def chi2_test(seq, max, num_bins, alpha = 0.01):\n",
    "    seq = np.array(seq)\n",
    "    exp_count = 1/num_bins * len(seq)\n",
    "    bins = np.zeros(num_bins)\n",
    "    bin_size = max / num_bins\n",
    "    for i in range(0, num_bins):\n",
    "        bins[i] = np.sum(np.logical_and(bin_size * i <= seq, seq < bin_size * (i + 1)))\n",
    "    chi2_star = sum((bins - exp_count)**2 / exp_count)\n",
    "    p_val = 1 - chi2.cdf(chi2_star, df = num_bins - 1) # assume continuity? or correct for conditional inclusion?\n",
    "    acceptance = p_val >= alpha # fail to reject (True) if p_val too large\n",
    "    return p_val, acceptance\n",
    "\n",
    "# tests\n",
    "m = 2**12\n",
    "seq1 = np.zeros(1000)\n",
    "seq2 = np.array(LCG(seed = 1, a = 1, c = 1, m = m).randint(1024))\n",
    "seq3 = np.array(LCG(seed = 1, a = 5, c = 1, m = m).randint(1024))\n",
    "p_val1, acceptance1 = chi2_test(seq1, max = m, num_bins = 2**6)\n",
    "p_val2, acceptance2 = chi2_test(seq2, max = m, num_bins = 2**6)\n",
    "p_val3, acceptance3 = chi2_test(seq3, max = m, num_bins = 2**6)\n",
    "print(acceptance1, acceptance2, acceptance3)\n"
   ]
  },
  {
   "cell_type": "markdown",
   "metadata": {},
   "source": [
    "## Monobit Frequency Test\n",
    "\n",
    "Write a function `monobit_test` that takes as input a list of random numbers, a bit location, and a significance level $\\alpha$ and returns a p-value and a boolean value indicating whether the null hypothesis is not rejected (`True`) or rejected (`False`). The null hypothesis being that ratio of 1s to 0s in the $i^{th}$ bits of the sequence is 1:1.\n",
    "\n",
    "Test your function on the three sequences `X`, `Y`, and `Z`. Play around with the `bit` variable. Try to find which bits in `Y` and `Z` test true for being random and which bits do not. Report your findings.\n",
    "\n",
    "For calculating the p-value, use the function `norm.cdf` from the `scipy.stats` module. You are not allowed to use any other library functions."
   ]
  },
  {
   "cell_type": "code",
   "execution_count": 7,
   "metadata": {},
   "outputs": [
    {
     "name": "stdout",
     "output_type": "stream",
     "text": [
      "p_val: 0.0\n",
      "p_val: 0.0\n",
      "p_val: 1.0\n",
      "False False True\n"
     ]
    }
   ],
   "source": [
    "# Mono-bit test for uniform randomness\n",
    "def monobit_test(seq, bit, alpha = 0.01):\n",
    "\n",
    "    # extract a bit of each number\n",
    "    seq = [(num // 2**bit) % 2 for num in seq] # extracting bit-th bit (0-indexed)\n",
    "\n",
    "    k, p = len(seq), 1/2\n",
    "\n",
    "    num_ones = sum(np.equal(seq, 1))\n",
    "    # mu = p, sigma**2 = p(1-p)/k\n",
    "    z_star = ((num_ones / k) - p) / np.sqrt(p * (1 - p) / k) # normalized\n",
    "\n",
    "    half_p_val = 1 - norm.cdf(abs(z_star))\n",
    "    p_val = 2 * half_p_val\n",
    "    print(f'p_val: {p_val}')\n",
    "    acceptance = p_val >= alpha\n",
    "    return p_val, acceptance\n",
    "\n",
    "# tests\n",
    "p_val1, acceptance1 = monobit_test(X, bit = 14)\n",
    "p_val2, acceptance2 = monobit_test(Y, bit = 14)\n",
    "p_val3, acceptance3 = monobit_test(Z, bit = 11)\n",
    "print(acceptance1, acceptance2, acceptance3)\n"
   ]
  },
  {
   "cell_type": "markdown",
   "metadata": {},
   "source": [
    "Y seems to test true for being random with $bit \\lt 10$ and false with $bit \\geq 10$.\n",
    "Z seems to test true for being random with $bit \\lt 11$ and false with $bit \\geq 11$.\n"
   ]
  },
  {
   "cell_type": "markdown",
   "metadata": {},
   "source": [
    "## Runs Test\n",
    "\n",
    "### Derivation \n",
    "\n",
    "Consider a uniformly random binary sequence of length $n$. Let $Z_i$ be the indicator random variable for whether the $i^{th}$ term is different from the $(i+1)^{st}$ term in the sequence. Note that the $Z_i$ are i.i.d. Recall that \n",
    "\n",
    "\\begin{equation}\n",
    "  X_n = 1 + \\sum_{i = 1}^{n-1} Z_i\n",
    "\\end{equation}\n",
    "\n",
    "measures the number of runs in the sequence. Compute the expectation $E[X]$ and the standard deviation $\\sigma[X]$. You'll need these numbers to perform the runs test."
   ]
  },
  {
   "cell_type": "markdown",
   "metadata": {},
   "source": [
    "**Type your answer here:**"
   ]
  },
  {
   "cell_type": "markdown",
   "metadata": {},
   "source": [
    "Write a function `runs_test` that takes as input a list of random numbers, a bit location, and a significance level $\\alpha$ and returns a p-value and a boolean value indicating whether the null hypothesis is not rejected (`True`) or rejected (`False`). The null hypothesis being that ratio of 1s to 0s in the $i^{th}$ bits of the sequence is 1:1.\n",
    "\n",
    "Test your function on the three sequences `X`, `Y`, and `Z`. Play around with the `bit` variable. Try to find which bits in `Y` and `Z` test true for being random and which bits do not. Report your findings.\n",
    "\n",
    "For calculating the p-value, use the function `norm.cdf` from the `scipy.stats` module. You are not allowed to use any other library functions."
   ]
  },
  {
   "cell_type": "code",
   "execution_count": 8,
   "metadata": {},
   "outputs": [
    {
     "name": "stdout",
     "output_type": "stream",
     "text": [
      "False False False\n",
      "bit: 0, acceptance: False\n",
      "bit: 1, acceptance: False\n",
      "bit: 2, acceptance: False\n",
      "bit: 3, acceptance: True\n",
      "bit: 4, acceptance: False\n",
      "bit: 5, acceptance: False\n",
      "bit: 6, acceptance: False\n",
      "bit: 7, acceptance: False\n",
      "bit: 8, acceptance: False\n",
      "bit: 9, acceptance: False\n",
      "bit: 10, acceptance: False\n",
      "bit: 11, acceptance: False\n",
      "bit: 12, acceptance: False\n"
     ]
    }
   ],
   "source": [
    "# Runs test \n",
    "def runs_test(seq, bit, alpha = 0.01):\n",
    "\n",
    "    # extract a bit of each number\n",
    "    seq = [(num // 2**bit) % 2 for num in seq]\n",
    "    runs = [seq[i + 1] ^ seq[i] for i in range(len(seq) - 1)]\n",
    "    X = 1 + sum(runs)\n",
    "    n = len(seq)\n",
    "    mu = 1 + (n - 1) / 2\n",
    "    sigma = np.sqrt(n - 1) / 2\n",
    "    Z = (X - mu) / sigma\n",
    "    p_val = 2 * (1 - norm.cdf(abs(Z)))\n",
    "    acceptance = p_val >= alpha\n",
    "    # print(f'p_val: {p_val}')\n",
    "    return p_val, acceptance\n",
    "\n",
    "# tests\n",
    "p_val1, acceptance1 = runs_test(X, bit = 9)\n",
    "p_val2, acceptance2 = runs_test(Y, bit = 3)\n",
    "p_val3, acceptance3 = runs_test(Z, bit = 0)\n",
    "print(acceptance1, acceptance2, acceptance3)\n",
    "\n",
    "for i in range(13):\n",
    "    _, acceptance = runs_test(Z, bit = i)\n",
    "    print(f'bit: {i}, acceptance: {acceptance}')"
   ]
  },
  {
   "cell_type": "markdown",
   "metadata": {},
   "source": [
    "X always tests false for being random since the number of runs is far left of the expected value.\n",
    "Y always tests false for being random since the number of runs is too far right of the expected value.\n",
    "Z seems to test true for being random only with $bit = 3$, and false for randomness with all other bit values."
   ]
  },
  {
   "cell_type": "markdown",
   "metadata": {},
   "source": [
    "## Problems in higher dimensions\n",
    "\n",
    "The following code generates pairs of random numbers using and LCG and plots then in $\\mathbb{R}^2$. Do you see a problem? Play around with the parameter $a$ and by a visual inspect decide which values of $a$ are good and which are bad. Report your findings."
   ]
  },
  {
   "cell_type": "code",
   "execution_count": 9,
   "metadata": {},
   "outputs": [
    {
     "data": {
      "image/png": "[encoded data removed]",
      "text/plain": [
       "<Figure size 640x480 with 1 Axes>"
      ]
     },
     "metadata": {},
     "output_type": "display_data"
    }
   ],
   "source": [
    "# Generate pairs of random numbers and plot them\n",
    "lcg = LCG(seed = 0, a = 33, c = 1, m = 2**12)\n",
    "\n",
    "n = 5000\n",
    "x = lcg.randint(n)\n",
    "y = lcg.randint(n)\n",
    "\n",
    "# plot the tuples (x, y)\n",
    "plt.figure()\n",
    "plt.scatter(x, y, s=1)\n",
    "plt.legend(['a = ' + str(lcg.a)])\n",
    "plt.show()"
   ]
  },
  {
   "cell_type": "markdown",
   "metadata": {},
   "source": [
    "The current example with $a = 33$ shows how the pseudorandom numbers follow a specific pattern and do not spread out completely to occupy the entire $\\mathbb{R}^2$ vector space. This is quite far from a uniform distribution and is not a good approximation of randomness.\n",
    "\n",
    "After experimenting with different values of $a$, I observed that prime numbers (e.g. 101) are the best. This makes sense intuitively, since fewer factors of $a$ means fewer ways to approach the same number by linear operations. Odd composite numbers (e.g. 33) are somewhat uniformly distributed, while even numbers repeat only a select few values and make a bad PRNG."
   ]
  },
  {
   "cell_type": "markdown",
   "metadata": {},
   "source": [
    "## Final Remarks\n",
    "\n",
    "Linear Congruential Generators pass many simple statistical tests when used with moderately small sample sizes. As you saw above some bits of an LCG output are more random than others. It is common practice to only use some of the output bits and discard the rest.\n",
    "\n",
    "However, LCGs are extremely bad for generating random vectors in even 2 dimensions or for large sample sizes in 1 dimension and hence are not recommended for running simulations."
   ]
  },
  {
   "cell_type": "code",
   "execution_count": 10,
   "metadata": {},
   "outputs": [
    {
     "name": "stdout",
     "output_type": "stream",
     "text": [
      "3.8414588206941205\n"
     ]
    }
   ],
   "source": [
    "# Written homework question 1, part b\n",
    "import scipy.stats\n",
    "chi2_crit = scipy.stats.chi2.ppf(0.95, df=1)\n",
    "print(chi2_crit)"
   ]
  }
 ],
 "metadata": {
  "kernelspec": {
   "display_name": ".venv",
   "language": "python",
   "name": "python3"
  },
  "language_info": {
   "codemirror_mode": {
    "name": "ipython",
    "version": 3
   },
   "file_extension": ".py",
   "mimetype": "text/x-python",
   "name": "python",
   "nbconvert_exporter": "python",
   "pygments_lexer": "ipython3",
   "version": "3.10.8"
  }
 },
 "nbformat": 4,
 "nbformat_minor": 2
}
